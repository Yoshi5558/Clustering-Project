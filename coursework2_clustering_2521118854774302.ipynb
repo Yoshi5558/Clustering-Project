{
 "cells": [
  {
   "cell_type": "markdown",
   "metadata": {},
   "source": [
    "# University of Exeter\n",
    "## College of Engineering, Mathematics and Physical  Sciences\n",
    "### ECM3420/ECMM445 - Learning From Data\n",
    "\n",
    "#### Coursework 2 - Clutering"
   ]
  },
  {
   "cell_type": "markdown",
   "metadata": {},
   "source": [
    "### Enter your candidate number here:"
   ]
  },
  {
   "cell_type": "code",
   "execution_count": 293,
   "metadata": {},
   "outputs": [],
   "source": [
    "import math\n",
    "import numpy as np \n",
    "import pandas as pd\n",
    "import matplotlib.pyplot as plt\n",
    "import matplotlib\n",
    "import random as rd\n",
    "\n",
    "\n",
    "def importcsv(path_csv, names):\n",
    "    \"\"\"\n",
    "    Simple csv import as pandas dataframe\n",
    "    \"\"\"\n",
    "    return pd.read_csv(path_csv, sep=',', names=names)\n",
    "\n",
    "iris_class_names = ['Iris-versicolor', 'Iris-virginica', 'Iris-setosa']\n",
    "iris_names = [\"sepal-length\", \"sepal-width\", \"petal-length\", \"petal-width\", \"Class?\"]\n",
    "wine_names = [\"Alcohol\", \"Malic Acid\", \"Ash\", \"Alcanlinity of Ash\", \"Magnesium\", \"Total Phenols\",\"Flavanoids\", \"Nonflavanoid phenols\", \"Proantyocycanis\", \"Colour Intensity\", \"Hue\", \"OD280/OD315 of diluted wines\", \"proline\"]\n",
    "iris = importcsv(r'C:\\Users\\joshi\\Desktop\\ca2\\iris.txt', iris_names)\n",
    "wine = importcsv(r'C:\\Users\\joshi\\Desktop\\ca2\\wine.txt', wine_names)"
   ]
  },
  {
   "cell_type": "markdown",
   "metadata": {},
   "source": [
    "## WP1"
   ]
  },
  {
   "cell_type": "code",
   "execution_count": 712,
   "metadata": {
    "scrolled": true
   },
   "outputs": [
    {
     "data": {
      "image/png": "[encoded data removed]",
      "text/plain": [
       "<Figure size 432x288 with 1 Axes>"
      ]
     },
     "metadata": {
      "needs_background": "light"
     },
     "output_type": "display_data"
    }
   ],
   "source": [
    "def kmeans(x, k, max_itr=100):\n",
    "    \"\"\"\n",
    "    Super Function for K-Means implementation\n",
    "    x - raw data set as x and y vectors\n",
    "    k - number of means/centroids\n",
    "    max_itr - Maximum number of iterations\n",
    "    \n",
    "    Returns: \n",
    "    Centroid_ds - A list of lists, lists of points indexed by their assigned centroid (specification)\n",
    "    centroids - A list of coordinates for the final centroids (for my plotter)\n",
    "    \"\"\"\n",
    "    point_data = list(zip(x[0],x[1]))\n",
    "    max_x_bound, max_y_bound = max(x[0]), max(x[1])\n",
    "    min_x_bound, min_y_bound = min(x[0]), min(x[1])\n",
    "    #Placed random seed centroids within the bounds of the dataset\n",
    "    centroids = [[rd.uniform(min_x_bound, max_x_bound),rd.uniform(min_y_bound, max_y_bound)] for m in range(k)]\n",
    "    for b in range(max_itr):\n",
    "        centroid_ds = classifier(point_data, centroids,k)\n",
    "        centroids = update_centroids(centroid_ds)\n",
    "    return centroid_ds, centroids\n",
    "    \n",
    "    \n",
    "def classifier(point_data, centroids,k):\n",
    "    \"\"\"\n",
    "    Helper Function for K-Means : Classifies a list of points into classes\n",
    "    point_data - raw point data as a list of coordinates\n",
    "    centroids - list of centroid coordinates\n",
    "    k - number of centroids\n",
    "    \n",
    "    Returns:\n",
    "    Centroid_ds - A list of lists, lists of points indexed by their assigned centroid\n",
    "    \"\"\"\n",
    "    centroid_ds = [[] for j in range(k)]\n",
    "    for point in point_data:\n",
    "        centroid_d = []\n",
    "        for centroid in centroids: \n",
    "            distance = euclid_d((point[0], point[1]), centroid)\n",
    "            centroid_d.append(distance)\n",
    "        centroid_ds[centroid_d.index(min(centroid_d))].append(point)\n",
    "    return centroid_ds\n",
    "    \n",
    "def update_centroids(centroid_ds):\n",
    "    \"\"\"\n",
    "    Helper Function for K-Means : Calculates new centroid coordinates\n",
    "    centroid_ds - A list of lists, lists of points indexed by their assigned centroid\n",
    "    \n",
    "    Returns:\n",
    "    centroids - A list of centroid coordinates\n",
    "    \"\"\"\n",
    "    centroids = []\n",
    "    for sublist in centroid_ds:\n",
    "        if len(sublist) > 0:\n",
    "            centroids.append([sum(x)/len(x) for x in zip(*sublist)])\n",
    "    return centroids\n",
    "               \n",
    "def euclid_d(x,y):\n",
    "    return math.sqrt(sum([(a-b) ** 2 for a, b in zip(x,y)]))\n",
    "\n",
    "\n",
    "def plotter(datalist, centroids_list, xlabel, ylabel, title):\n",
    "    \"\"\"\n",
    "    My own plotter to help visualise and validate the function of my K-Means implemenation\n",
    "    datalist - A list of list of coordinates for every point, indexed by their centroid number.\n",
    "    centroids_list - list of centroid coordinates\n",
    "    \n",
    "    Returns: \n",
    "    Generates a graph showing clustered data(as crosses) and their centroids(as dots)\n",
    "    \"\"\"\n",
    "    ax = plt.axes()\n",
    "    coldict = {0:'r', 1:'b', 2:'g', 3:'y'}\n",
    "    for n in range(len(centroids_list)):\n",
    "        for entry in datalist[n]:\n",
    "            plt.scatter(entry[0],entry[1], color=coldict.get(n), marker='+')\n",
    "        plt.scatter(centroids_list[n][0],centroids_list[n][1], color=coldict.get(n), marker='o')\n",
    "    ax.set_xlabel(xlabel)\n",
    "    ax.set_ylabel(ylabel)\n",
    "    ax.set_title(title)\n",
    "    plt.show()\n",
    "    \n",
    "#Simple Validation on iris dataset\n",
    "plotdata_x = iris[\"sepal-length\"].values    \n",
    "plotdata_y = iris[\"petal-width\"].values\n",
    "centroid_ds, centroids = kmeans((plotdata_x, plotdata_y), 3,max_itr=100)\n",
    "plotter(centroid_ds, centroids, \"Sepal Length\", \"Petal Width\", \"K-means clustering of Sepal Length against Petal Width for K=3\")"
   ]
  },
  {
   "cell_type": "markdown",
   "metadata": {},
   "source": [
    
   ]
  },
  {
   "cell_type": "code",
   "execution_count": 821,
   "metadata": {},
   "outputs": [
    {
     "data": {
      "text/plain": [
       "0.5619668724678668"
      ]
     },
     "execution_count": 821,
     "metadata": {},
     "output_type": "execute_result"
    }
   ],
   "source": [
    
   ]
  },
  {
   "cell_type": "markdown",
   "metadata": {},
   "source": [
    
   ]
  },
  {
   "cell_type": "markdown",
   "metadata": {},
   "source": [
    
   ]
  },
  {
   "cell_type": "markdown",
   "metadata": {},
   "source": [
   
   ]
  },
  {
   "cell_type": "markdown",
   "metadata": {},
   "source": [
    
   ]
  }
 ],
 "metadata": {
  "kernel_info": {
   "name": "python3"
  },
  "kernelspec": {
   "display_name": "Python 3",
   "language": "python",
   "name": "python3"
  },
  "language_info": {
   "codemirror_mode": {
    "name": "ipython",
    "version": 3
   },
   "file_extension": ".py",
   "mimetype": "text/x-python",
   "name": "python",
   "nbconvert_exporter": "python",
   "pygments_lexer": "ipython3",
   "version": "3.7.0"
  },
  "nteract": {
   "version": "0.15.0"
  }
 },
 "nbformat": 4,
 "nbformat_minor": 2
}
